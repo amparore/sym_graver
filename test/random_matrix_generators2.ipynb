{
 "cells": [
  {
   "cell_type": "code",
   "execution_count": 2,
   "metadata": {},
   "outputs": [],
   "source": [
    "import numpy as np\n",
    "import pandas as pd\n",
    "# import math\n",
    "# from itertools import count\n",
    "from tqdm.auto import tqdm\n",
    "# import threading\n",
    "import os, platform\n",
    "# import multiprocessing\n",
    "# import subprocess\n",
    "# from queue import Empty as QueueEmpty\n",
    "import matplotlib.pyplot as plt\n",
    "pd.set_option('display.max_columns', None)\n",
    "from matplotlib import rc\n",
    "rc('text',usetex=True)\n",
    "rc('text.latex', preamble='\\\\usepackage{color}')"
   ]
  },
  {
   "cell_type": "code",
   "execution_count": 3,
   "metadata": {},
   "outputs": [],
   "source": [
    "target_name = 'random2'\n",
    "sym_graver_bin = '../build/sym_hilbert'"
   ]
  },
  {
   "cell_type": "code",
   "execution_count": 8,
   "metadata": {},
   "outputs": [],
   "source": [
    "os.makedirs(f'mats_{target_name}', exist_ok=True)\n",
    "problem_list = []\n",
    "for n in range(100):\n",
    "    out_fname = f'mats_{target_name}/problem{n:03}.mat'\n",
    "    if not os.path.exists(out_fname):\n",
    "        cmd = f'{sym_graver_bin} -unit-test-generate-matrix 5 15 {out_fname}'\n",
    "        print(cmd)\n",
    "        os.system(cmd)\n",
    "\n",
    "    problem_list.append(out_fname.split('.')[0])\n",
    "\n",
    "with open(f'models_{target_name}.txt', 'w') as f:\n",
    "    for m in problem_list:\n",
    "        f.write(m + '\\n')"
   ]
  },
  {
   "cell_type": "code",
   "execution_count": null,
   "metadata": {},
   "outputs": [],
   "source": []
  }
 ],
 "metadata": {
  "kernelspec": {
   "display_name": "metal11",
   "language": "python",
   "name": "python3"
  },
  "language_info": {
   "codemirror_mode": {
    "name": "ipython",
    "version": 3
   },
   "file_extension": ".py",
   "mimetype": "text/x-python",
   "name": "python",
   "nbconvert_exporter": "python",
   "pygments_lexer": "ipython3",
   "version": "3.9.15"
  }
 },
 "nbformat": 4,
 "nbformat_minor": 2
}
