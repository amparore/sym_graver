{
 "cells": [
  {
   "cell_type": "code",
   "execution_count": 1,
   "metadata": {},
   "outputs": [],
   "source": [
    "import numpy as np\n",
    "import pandas as pd\n",
    "import math\n",
    "from itertools import count\n",
    "from tqdm import tqdm\n",
    "import threading\n",
    "import os, platform\n",
    "import multiprocessing\n",
    "import subprocess\n",
    "from queue import Empty as QueueEmpty\n",
    "import matplotlib.pyplot as plt\n",
    "pd.set_option('display.max_columns', None)"
   ]
  },
  {
   "cell_type": "code",
   "execution_count": 304,
   "metadata": {},
   "outputs": [],
   "source": [
    "# model_list_name, output_dir = 'models_mcc200', 'results_mcc200'\n",
    "# model_list_name, output_dir = 'models_mcc200quick', 'results_mcc200quick'\n",
    "model_list_name, output_dir = 'models_random', 'results_random'\n",
    "max_time = 5\n",
    "n_parallel = 8\n",
    "run_all = True # run all tests or only those that don't have the .log file"
   ]
  },
  {
   "cell_type": "code",
   "execution_count": 305,
   "metadata": {},
   "outputs": [
    {
     "name": "stdout",
     "output_type": "stream",
     "text": [
      "60\n"
     ]
    }
   ],
   "source": [
    "# Load models and benchmark definition\n",
    "model_list = open(model_list_name+'.txt', 'r').readlines()\n",
    "model_list = [ f.replace('\\n', '') for f in model_list ]\n",
    "model_list = [ f for f in model_list if len(f) > 0 ]\n",
    "# model_list = model_list[:10]\n",
    "print(len(model_list))\n",
    "os.makedirs(output_dir, exist_ok=True)"
   ]
  },
  {
   "cell_type": "code",
   "execution_count": 306,
   "metadata": {},
   "outputs": [],
   "source": [
    "def run_commands(queue, pin, pbar):\n",
    "    while True:\n",
    "        try:\n",
    "            qe = queue.get()#block=False)\n",
    "            if qe is None:\n",
    "                break\n",
    "            # print(qe)\n",
    "            tool, test_name, args, model_fname = qe\n",
    "            model_basename = model_fname.split('/')[-1]\n",
    "            logfile = f'{output_dir}/{model_basename}-{test_name}.log'\n",
    "            # os.remove(logfile)\n",
    "            if run_all or not os.path.exists(logfile):\n",
    "                # print(logfile)\n",
    "                with open(logfile, 'w') as f:\n",
    "                    print('****************', file=f)\n",
    "                    print(f'MODEL={model_fname}\\n', file=f)\n",
    "                    f.flush()\n",
    "                    if platform.system()=='Darwin':\n",
    "                        cmd = f'gtimeout {max_time}s '\n",
    "                    else:\n",
    "                        cmd = f'/usr/bin/time --verbose /usr/bin/timeout {max_time}s taskset -c {2*pin} ' \n",
    "                    # cmd = ''\n",
    "                    if tool=='sym':\n",
    "                        cmd += f'../build/sym_hilbert -c -p -u {model_fname} {args} '\n",
    "                    elif tool=='4ti2':\n",
    "                        cmd += f'{args} {model_fname} '\n",
    "                \n",
    "                    try:\n",
    "                        proc = subprocess.run(cmd, shell=True, stdout=f, stderr=f)\n",
    "                        exitcode = proc.returncode\n",
    "                    except subprocess.TimeoutExpired:\n",
    "                        exitcode = 124  # timeout\n",
    "\n",
    "                # append exit status to the log file\n",
    "                with open(logfile, 'a') as f:\n",
    "                    print(f'\\nEXITCODE={exitcode}\\n', file=f)\n",
    "\n",
    "                if exitcode not in [0,124]:\n",
    "                    print(qe, f'EXITCODE={exitcode}')\n",
    "            pbar.update(1)\n",
    "        except QueueEmpty:\n",
    "            print('queue empty')\n",
    "            break # no more commands\n",
    "    # print(f'Thread {pin} ends.')"
   ]
  },
  {
   "cell_type": "code",
   "execution_count": 307,
   "metadata": {},
   "outputs": [
    {
     "name": "stdout",
     "output_type": "stream",
     "text": [
      "num_runs= 60\n"
     ]
    }
   ],
   "source": [
    "tests = [\n",
    "    # # [ \"sym\",  'TestKerA',    '' ],\n",
    "    # ######### Hilbert basis #########\n",
    "    # # [ \"4ti2\", \"Hil_4ti2\",  \"/home/elvio/4ti2/src/zsolve/hilbert\" ],\n",
    "    # [ \"sym\",  'Hil_Ga',    '-ye -nl' ],\n",
    "    # [ \"sym\",  'Hil_GL',    '-ye -yl' ],\n",
    "    # [ \"sym\",  'Hil_na',    '-ne -nl' ],\n",
    "    [ \"sym\",  'Hil_nL',    '-ne -yl' ],\n",
    "    # [ \"sym\",  'Hil_LD',    '-ne -yl -yd' ],\n",
    "    # # [ \"sym\",  'Hil_nP',    '-ne -yl -po' ],\n",
    "    # [ \"sym\",  'Hil_LS',    '-ne -yl -s' ],\n",
    "    # # [ \"sym\",  'Hil_LZ',    '-ne -yl -z' ],\n",
    "    # # [ \"sym\",  'Hil_LZD',   '-ne -yl -z -yd' ],\n",
    "    # # [ \"sym\",  'Hil_LZS',   '-ne -yl -z -yd -s' ],\n",
    "    # [ \"sym\",  'Hil_HNF',   '-ne -yl -yd -np' ],\n",
    "    # [ \"sym\",  'Hil_IGE',   '-ne -yl -yd -np -ige' ],\n",
    "\n",
    "    # ######### Extreme Rays #########\n",
    "    # # [ \"4ti2\", \"Ray_4ti2\",  \"/home/elvio/4ti2/src/groebner/rays\" ],\n",
    "    [ \"sym\",  'Ray_nL',    '-ne -yl -x' ],\n",
    "    # # [ \"sym\",  'Ray_LZ',    '-ne -yl -z -x' ],\n",
    "    # # [ \"sym\",  'Ray_LD',    '-ne -yl -d -x' ],\n",
    "    # # [ \"sym\",  'Ray_LZD',   '-ne -yl -z -yd -x' ],\n",
    "    # # [ \"sym\",  'Ray_LS',    '-ne -yl -s -x' ],\n",
    "    # # # [ \"sym\",  'Ray_LZS',   '-ne -yl -z -s -x' ],\n",
    "    # # # [ \"sym\",  'Ray_nP',    '-ne -yl -po -x' ],\n",
    "\n",
    "    # ######### Graver basis #########\n",
    "    # # [ \"4ti2\", \"Gra_4ti2\",  \"/home/elvio/4ti2/src/zsolve/graver\" ],\n",
    "    # [ \"sym\",  'Gra_Ga',    '-ye -nl -g' ],\n",
    "    # [ \"sym\",  'Gra_na',    '-ne -nl -g' ],\n",
    "    [ \"sym\",  'Gra_nL',    '-ne -yl -g' ],\n",
    "    # # # [ \"sym\",  'Gra_nP',    '-ne -yl -po -g' ],\n",
    "]\n",
    "# generate commands\n",
    "queue = multiprocessing.Queue(maxsize=10000)\n",
    "num_runs = 0\n",
    "for tool, test_name, args in tests:\n",
    "    for model in model_list:\n",
    "        queue.put([tool,  test_name, args, model])\n",
    "        num_runs += 1\n",
    "print('num_runs=',num_runs)\n",
    "for i in range(n_parallel):\n",
    "    queue.put(None)"
   ]
  },
  {
   "cell_type": "code",
   "execution_count": 308,
   "metadata": {},
   "outputs": [
    {
     "name": "stderr",
     "output_type": "stream",
     "text": [
      "  3%|▎         | 2/60 [00:00<00:15,  3.72it/s]"
     ]
    },
    {
     "name": "stdout",
     "output_type": "stream",
     "text": [
      "['sym', 'Gra_nL', '-ne -yl -g', 'mats_random/in004'] EXITCODE=2\n"
     ]
    },
    {
     "name": "stderr",
     "output_type": "stream",
     "text": [
      " 57%|█████▋    | 34/60 [00:15<00:07,  3.28it/s]"
     ]
    },
    {
     "name": "stdout",
     "output_type": "stream",
     "text": [
      "['sym', 'Gra_nL', '-ne -yl -g', 'mats_random/in038'] EXITCODE=2\n"
     ]
    },
    {
     "name": "stderr",
     "output_type": "stream",
     "text": [
      "100%|██████████| 60/60 [00:30<00:00,  1.96it/s]"
     ]
    },
    {
     "name": "stdout",
     "output_type": "stream",
     "text": [
      "Done\n"
     ]
    },
    {
     "name": "stderr",
     "output_type": "stream",
     "text": [
      "\n"
     ]
    }
   ],
   "source": [
    "with tqdm(total=num_runs) as pbar:\n",
    "    # run the commands in parallel\n",
    "    threads = []\n",
    "    for i in range(n_parallel):\n",
    "        threads.append(threading.Thread(target=run_commands, args=(queue, i, pbar)))\n",
    "        \n",
    "    for t in threads: # start all threads\n",
    "        t.start()\n",
    "    for t in threads: # wait for all terminations\n",
    "        t.join()\n",
    "queue.close()\n",
    "print('Done')"
   ]
  },
  {
   "cell_type": "code",
   "execution_count": 301,
   "metadata": {},
   "outputs": [],
   "source": [
    "data = []\n",
    "for model_fname in model_list:\n",
    "    model_basename = model_fname.split('/')[-1]\n",
    "    row = {'model':model_basename}\n",
    "    for tool, test_name, args in tests:\n",
    "        logfile = f'{output_dir}/{model_basename}-{test_name}.log'\n",
    "        if os.path.exists(logfile):\n",
    "            tm = -1.0\n",
    "            cntC = -1\n",
    "            with open(logfile) as f:\n",
    "                for line in f:\n",
    "                    line = line.strip()\n",
    "                    if line.startswith('User time'):\n",
    "                        tm = float(line.split(':')[1])\n",
    "                    if line.startswith('CPU usage'):\n",
    "                        tm = float(line.split(':')[1])\n",
    "                    elif line.startswith('Total S-Vectors processed') or line.startswith('_completes:') or line.startswith('Added:'):\n",
    "    #                     print(line, float(line.split(':')[1]))\n",
    "                        cntC = int(line.split(':')[1])\n",
    "                    elif line.startswith('EXITCODE'):\n",
    "                        # ec = int(re.sub(' +', ' ', line).split(' ')[1])\n",
    "                        ec = int(line.split('=')[1])\n",
    "                        if ec==124:\n",
    "                            tm = -1\n",
    "                        elif ec != 0:\n",
    "                            print(line, logfile)\n",
    "            row[test_name] = tm\n",
    "            row[test_name+'_C'] = cntC\n",
    "    data.append(row)\n",
    "data = pd.DataFrame(data)\n",
    "data.to_csv(f'data_{model_list_name}.csv', index=False)"
   ]
  },
  {
   "cell_type": "code",
   "execution_count": 293,
   "metadata": {},
   "outputs": [
    {
     "data": {
      "text/html": [
       "<div>\n",
       "<style scoped>\n",
       "    .dataframe tbody tr th:only-of-type {\n",
       "        vertical-align: middle;\n",
       "    }\n",
       "\n",
       "    .dataframe tbody tr th {\n",
       "        vertical-align: top;\n",
       "    }\n",
       "\n",
       "    .dataframe thead th {\n",
       "        text-align: right;\n",
       "    }\n",
       "</style>\n",
       "<table border=\"1\" class=\"dataframe\">\n",
       "  <thead>\n",
       "    <tr style=\"text-align: right;\">\n",
       "      <th></th>\n",
       "      <th>model</th>\n",
       "      <th>Hil_LD</th>\n",
       "      <th>Hil_LD_C</th>\n",
       "    </tr>\n",
       "  </thead>\n",
       "  <tbody>\n",
       "    <tr>\n",
       "      <th>0</th>\n",
       "      <td>AirplaneLD-COL-0010</td>\n",
       "      <td>0</td>\n",
       "      <td>3</td>\n",
       "    </tr>\n",
       "    <tr>\n",
       "      <th>1</th>\n",
       "      <td>AirplaneLD-PT-0010</td>\n",
       "      <td>0</td>\n",
       "      <td>3</td>\n",
       "    </tr>\n",
       "    <tr>\n",
       "      <th>2</th>\n",
       "      <td>AirplaneLD-PT-0100</td>\n",
       "      <td>-1</td>\n",
       "      <td>-1</td>\n",
       "    </tr>\n",
       "    <tr>\n",
       "      <th>3</th>\n",
       "      <td>ASLink-PT-01a</td>\n",
       "      <td>-1</td>\n",
       "      <td>-1</td>\n",
       "    </tr>\n",
       "    <tr>\n",
       "      <th>4</th>\n",
       "      <td>AutoFlight-PT-01a</td>\n",
       "      <td>0</td>\n",
       "      <td>18</td>\n",
       "    </tr>\n",
       "    <tr>\n",
       "      <th>5</th>\n",
       "      <td>AutoFlight-PT-01b</td>\n",
       "      <td>0</td>\n",
       "      <td>9</td>\n",
       "    </tr>\n",
       "    <tr>\n",
       "      <th>6</th>\n",
       "      <td>AutoFlight-PT-02a</td>\n",
       "      <td>0</td>\n",
       "      <td>26</td>\n",
       "    </tr>\n",
       "    <tr>\n",
       "      <th>7</th>\n",
       "      <td>BART-PT-002</td>\n",
       "      <td>4</td>\n",
       "      <td>0</td>\n",
       "    </tr>\n",
       "    <tr>\n",
       "      <th>8</th>\n",
       "      <td>BART-PT-005</td>\n",
       "      <td>-1</td>\n",
       "      <td>-1</td>\n",
       "    </tr>\n",
       "    <tr>\n",
       "      <th>9</th>\n",
       "      <td>BridgeAndVehicles-PT-V04P05N02</td>\n",
       "      <td>0</td>\n",
       "      <td>0</td>\n",
       "    </tr>\n",
       "  </tbody>\n",
       "</table>\n",
       "</div>"
      ],
      "text/plain": [
       "                            model  Hil_LD Hil_LD_C\n",
       "0             AirplaneLD-COL-0010       0        3\n",
       "1              AirplaneLD-PT-0010       0        3\n",
       "2              AirplaneLD-PT-0100      -1       -1\n",
       "3                   ASLink-PT-01a      -1       -1\n",
       "4               AutoFlight-PT-01a       0       18\n",
       "5               AutoFlight-PT-01b       0        9\n",
       "6               AutoFlight-PT-02a       0       26\n",
       "7                     BART-PT-002       4        0\n",
       "8                     BART-PT-005      -1       -1\n",
       "9  BridgeAndVehicles-PT-V04P05N02       0        0"
      ]
     },
     "execution_count": 293,
     "metadata": {},
     "output_type": "execute_result"
    }
   ],
   "source": [
    "data.head(10)"
   ]
  },
  {
   "cell_type": "code",
   "execution_count": 294,
   "metadata": {},
   "outputs": [
    {
     "data": {
      "text/html": [
       "<div>\n",
       "<style scoped>\n",
       "    .dataframe tbody tr th:only-of-type {\n",
       "        vertical-align: middle;\n",
       "    }\n",
       "\n",
       "    .dataframe tbody tr th {\n",
       "        vertical-align: top;\n",
       "    }\n",
       "\n",
       "    .dataframe thead th {\n",
       "        text-align: right;\n",
       "    }\n",
       "</style>\n",
       "<table border=\"1\" class=\"dataframe\">\n",
       "  <thead>\n",
       "    <tr style=\"text-align: right;\">\n",
       "      <th></th>\n",
       "      <th>model</th>\n",
       "      <th>Hil_LD</th>\n",
       "      <th>Hil_LD_C</th>\n",
       "    </tr>\n",
       "  </thead>\n",
       "  <tbody>\n",
       "    <tr>\n",
       "      <th>0</th>\n",
       "      <td>AirplaneLD-COL-0010</td>\n",
       "      <td>0</td>\n",
       "      <td>3</td>\n",
       "    </tr>\n",
       "    <tr>\n",
       "      <th>1</th>\n",
       "      <td>AirplaneLD-PT-0010</td>\n",
       "      <td>0</td>\n",
       "      <td>3</td>\n",
       "    </tr>\n",
       "    <tr>\n",
       "      <th>2</th>\n",
       "      <td>AirplaneLD-PT-0100</td>\n",
       "      <td>-1</td>\n",
       "      <td>-1</td>\n",
       "    </tr>\n",
       "    <tr>\n",
       "      <th>3</th>\n",
       "      <td>ASLink-PT-01a</td>\n",
       "      <td>-1</td>\n",
       "      <td>-1</td>\n",
       "    </tr>\n",
       "    <tr>\n",
       "      <th>4</th>\n",
       "      <td>AutoFlight-PT-01a</td>\n",
       "      <td>0</td>\n",
       "      <td>18</td>\n",
       "    </tr>\n",
       "    <tr>\n",
       "      <th>5</th>\n",
       "      <td>AutoFlight-PT-01b</td>\n",
       "      <td>0</td>\n",
       "      <td>9</td>\n",
       "    </tr>\n",
       "    <tr>\n",
       "      <th>6</th>\n",
       "      <td>AutoFlight-PT-02a</td>\n",
       "      <td>0</td>\n",
       "      <td>26</td>\n",
       "    </tr>\n",
       "    <tr>\n",
       "      <th>7</th>\n",
       "      <td>BART-PT-002</td>\n",
       "      <td>4</td>\n",
       "      <td>0</td>\n",
       "    </tr>\n",
       "    <tr>\n",
       "      <th>8</th>\n",
       "      <td>BART-PT-005</td>\n",
       "      <td>-1</td>\n",
       "      <td>-1</td>\n",
       "    </tr>\n",
       "    <tr>\n",
       "      <th>9</th>\n",
       "      <td>BridgeAndVehicles-PT-V04P05N02</td>\n",
       "      <td>0</td>\n",
       "      <td>0</td>\n",
       "    </tr>\n",
       "  </tbody>\n",
       "</table>\n",
       "</div>"
      ],
      "text/plain": [
       "                            model  Hil_LD Hil_LD_C\n",
       "0             AirplaneLD-COL-0010       0        3\n",
       "1              AirplaneLD-PT-0010       0        3\n",
       "2              AirplaneLD-PT-0100      -1       -1\n",
       "3                   ASLink-PT-01a      -1       -1\n",
       "4               AutoFlight-PT-01a       0       18\n",
       "5               AutoFlight-PT-01b       0        9\n",
       "6               AutoFlight-PT-02a       0       26\n",
       "7                     BART-PT-002       4        0\n",
       "8                     BART-PT-005      -1       -1\n",
       "9  BridgeAndVehicles-PT-V04P05N02       0        0"
      ]
     },
     "execution_count": 294,
     "metadata": {},
     "output_type": "execute_result"
    }
   ],
   "source": [
    "data.head(10)"
   ]
  },
  {
   "cell_type": "code",
   "execution_count": 295,
   "metadata": {},
   "outputs": [],
   "source": [
    "# # from decimal import Decimal\n",
    "# data = pd.read_csv(f'data_{output_dir}.csv')\n",
    "# for c in data.columns:\n",
    "#     if c.endswith('_C'):\n",
    "#         data[c] = pd.to_numeric(data[c])#.astype(Decimal)\n",
    "#     if c.startswith('Hil_'):\n",
    "#         data[c] = data[c].astype(float)"
   ]
  },
  {
   "cell_type": "code",
   "execution_count": 296,
   "metadata": {},
   "outputs": [],
   "source": [
    "name_map = { 'Ga':'G*', 'na':'**', 'nL':'*L', 'nP':'*P', 'LD':'*LD', 'LS':'*LS', \n",
    "             'LZ':'*LZ', 'LZD':'*LZD', 'LZS':'*LZS', 'LZS2':'*LZS2', '4ti2':'4ti2' }"
   ]
  },
  {
   "cell_type": "code",
   "execution_count": 297,
   "metadata": {},
   "outputs": [],
   "source": [
    "col_names = sorted([c for c in data.columns if '_' in c and not c.endswith('_C') ], reverse=True)"
   ]
  },
  {
   "cell_type": "code",
   "execution_count": 298,
   "metadata": {},
   "outputs": [
    {
     "data": {
      "image/png": "[encoded data removed]",
      "text/plain": [
       "<Figure size 1200x300 with 3 Axes>"
      ]
     },
     "metadata": {},
     "output_type": "display_data"
    }
   ],
   "source": [
    "# vecs = [np.array(new_list[c]) for c in col_names]\n",
    "fig,axes = plt.subplots(1,3, figsize=(12, 3), width_ratios=[4,3,2])\n",
    "y_tout = 8\n",
    "xx = (np.random.rand(len(data)) - 0.5) * 0.6\n",
    "yy = np.random.rand(len(data)) + y_tout\n",
    "for jj in range(3):\n",
    "    prefix = {0:('Hil', 'Hilbert basis'), 1:('Ray', 'Extremal rays'), 2:('Gra', 'Graver basis')}\n",
    "    jj_col_names = [c for c in col_names if c.startswith(prefix[jj][0])]\n",
    "    for i, col_name in enumerate(jj_col_names):\n",
    "        vv = np.array(data[col_name])\n",
    "        num_tout = np.sum(vv<0)\n",
    "        vv[vv<0] = yy[vv<0]\n",
    "        axes[jj].scatter(xx+i, vv, s=5)\n",
    "        axes[jj].text(i, y_tout-.75, f'{num_tout}', fontsize=10, ha='center')\n",
    "        axes[jj].text(i, -.75, f'{len(vv)-num_tout}', fontsize=10, ha='center')\n",
    "    axes[jj].set_title(prefix[jj][1])\n",
    "    \n",
    "    axes[jj].set_xticks(range(len(jj_col_names)), [name_map[c.split('_')[1]] for c in jj_col_names])\n",
    "    axes[jj].set_yticks(list(range(6))+[y_tout+.5], [f'{s}s' for s in list(range(6))]+['timed\\nout'])\n",
    "    axes[jj].vlines(i-.5, -1, y_tout+2) \n",
    "    axes[jj].set_ylim(-1, y_tout+1.5)\n",
    "plt.tight_layout()\n",
    "# plt.savefig(f'{model_list_name}-time.pdf')\n",
    "plt.show()"
   ]
  },
  {
   "cell_type": "code",
   "execution_count": 101,
   "metadata": {},
   "outputs": [
    {
     "ename": "OverflowError",
     "evalue": "Python int too large to convert to C long",
     "output_type": "error",
     "traceback": [
      "\u001b[0;31m---------------------------------------------------------------------------\u001b[0m",
      "\u001b[0;31mOverflowError\u001b[0m                             Traceback (most recent call last)",
      "Cell \u001b[0;32mIn[101], line 19\u001b[0m\n\u001b[1;32m     17\u001b[0m \u001b[38;5;28;01mfor\u001b[39;00m i, col_name \u001b[38;5;129;01min\u001b[39;00m \u001b[38;5;28menumerate\u001b[39m(jj_col_names):\n\u001b[1;32m     18\u001b[0m     vv \u001b[38;5;241m=\u001b[39m np\u001b[38;5;241m.\u001b[39marray(NL[col_name])\n\u001b[0;32m---> 19\u001b[0m     vC \u001b[38;5;241m=\u001b[39m \u001b[43mnp\u001b[49m\u001b[38;5;241;43m.\u001b[39;49m\u001b[43marray\u001b[49m\u001b[43m(\u001b[49m\u001b[43mNL\u001b[49m\u001b[43m[\u001b[49m\u001b[43mcol_name\u001b[49m\u001b[38;5;241;43m+\u001b[39;49m\u001b[38;5;124;43m'\u001b[39;49m\u001b[38;5;124;43m_C\u001b[39;49m\u001b[38;5;124;43m'\u001b[39;49m\u001b[43m]\u001b[49m\u001b[43m,\u001b[49m\u001b[43m \u001b[49m\u001b[43mdtype\u001b[49m\u001b[38;5;241;43m=\u001b[39;49m\u001b[38;5;28;43mint\u001b[39;49m\u001b[43m)\u001b[49m\n\u001b[1;32m     20\u001b[0m     tout_mask \u001b[38;5;241m=\u001b[39m vv\u001b[38;5;241m<\u001b[39m\u001b[38;5;241m0\u001b[39m\n\u001b[1;32m     21\u001b[0m     num_tout \u001b[38;5;241m=\u001b[39m np\u001b[38;5;241m.\u001b[39msum(tout_mask)\n",
      "File \u001b[0;32m~/miniforge3/envs/metal11/lib/python3.9/site-packages/pandas/core/series.py:917\u001b[0m, in \u001b[0;36mSeries.__array__\u001b[0;34m(self, dtype)\u001b[0m\n\u001b[1;32m    870\u001b[0m \u001b[38;5;250m\u001b[39m\u001b[38;5;124;03m\"\"\"\u001b[39;00m\n\u001b[1;32m    871\u001b[0m \u001b[38;5;124;03mReturn the values as a NumPy array.\u001b[39;00m\n\u001b[1;32m    872\u001b[0m \n\u001b[0;32m   (...)\u001b[0m\n\u001b[1;32m    914\u001b[0m \u001b[38;5;124;03m      dtype='datetime64[ns]')\u001b[39;00m\n\u001b[1;32m    915\u001b[0m \u001b[38;5;124;03m\"\"\"\u001b[39;00m\n\u001b[1;32m    916\u001b[0m values \u001b[38;5;241m=\u001b[39m \u001b[38;5;28mself\u001b[39m\u001b[38;5;241m.\u001b[39m_values\n\u001b[0;32m--> 917\u001b[0m arr \u001b[38;5;241m=\u001b[39m \u001b[43mnp\u001b[49m\u001b[38;5;241;43m.\u001b[39;49m\u001b[43masarray\u001b[49m\u001b[43m(\u001b[49m\u001b[43mvalues\u001b[49m\u001b[43m,\u001b[49m\u001b[43m \u001b[49m\u001b[43mdtype\u001b[49m\u001b[38;5;241;43m=\u001b[39;49m\u001b[43mdtype\u001b[49m\u001b[43m)\u001b[49m\n\u001b[1;32m    918\u001b[0m \u001b[38;5;28;01mif\u001b[39;00m using_copy_on_write() \u001b[38;5;129;01mand\u001b[39;00m astype_is_view(values\u001b[38;5;241m.\u001b[39mdtype, arr\u001b[38;5;241m.\u001b[39mdtype):\n\u001b[1;32m    919\u001b[0m     arr \u001b[38;5;241m=\u001b[39m arr\u001b[38;5;241m.\u001b[39mview()\n",
      "\u001b[0;31mOverflowError\u001b[0m: Python int too large to convert to C long"
     ]
    },
    {
     "data": {
      "image/png": "[encoded data removed]",
      "text/plain": [
       "<Figure size 1200x300 with 3 Axes>"
      ]
     },
     "metadata": {},
     "output_type": "display_data"
    }
   ],
   "source": [
    "from matplotlib  import colormaps\n",
    "cmap = colormaps['Dark2']\n",
    "fig,axes = plt.subplots(1,3, figsize=(12, 3), width_ratios=[4,3,2])\n",
    "for jj in range(3):\n",
    "#     if jj==1: continue\n",
    "    prefix = {0:('Hil', 'Hilbert basis'), 1:('Ray', 'Extremal rays'), 2:('Gra', 'Graver basis')}\n",
    "    jj_col_names = [c for c in col_names if c.startswith(prefix[jj][0])]# and not '4ti2' in c]\n",
    "    NL = data.copy()\n",
    "    y_tout = 1\n",
    "    for n in jj_col_names:\n",
    "        NL = NL[ NL[n+'_C'] != -1 ]\n",
    "    for n in jj_col_names:\n",
    "        y_tout = max(y_tout, int(NL[n+'_C'].max()))\n",
    "    y_tout *= 10\n",
    "    xx = (np.random.rand(len(NL)) - 0.5) * 0.6\n",
    "    yy = np.random.rand(len(NL)) + y_tout\n",
    "    for i, col_name in enumerate(jj_col_names):\n",
    "        vv = np.array(NL[col_name])\n",
    "        vC = np.array(NL[col_name+'_C'], dtype=int)\n",
    "        tout_mask = vv<0\n",
    "        num_tout = np.sum(tout_mask)\n",
    "#         y_tout = 1e+15\n",
    "        vC[tout_mask] = yy[tout_mask]\n",
    "        vC[vC < 0] = 1\n",
    "        axes[jj].scatter(xx+i, vC, s=5, color=cmap(i))\n",
    "#         axes[jj].text(i, y_tout-.75, f'{num_tout}', fontsize=12, ha='center')\n",
    "        axes[jj].text(i, 0.15, f'{len(vv)-num_tout}', fontsize=10, ha='center')\n",
    "    axes[jj].set_title(prefix[jj][1])\n",
    "    \n",
    "    axes[jj].set_xticks(range(len(jj_col_names)), [name_map[c.split('_')[1]] for c in jj_col_names])\n",
    "#     axes[jj].set_yticks(list(range(6))+[y_tout+.5], [f'{s}s' for s in list(range(6))]+['timed\\nout'])\n",
    "    axes[jj].vlines(i-.5, -1, y_tout+2) \n",
    "    axes[jj].set_ylim(0.099, y_tout) \n",
    "    axes[jj].set_yscale('log')\n",
    "    axes[jj].set_ylabel('Num processed S-vectors')\n",
    "plt.tight_layout()\n",
    "# plt.savefig(f'{model_list_name}-svectors.pdf')\n",
    "plt.show()"
   ]
  },
  {
   "cell_type": "code",
   "execution_count": 15,
   "metadata": {},
   "outputs": [
    {
     "name": "stdout",
     "output_type": "stream",
     "text": [
      "IGE better than HNF:\n"
     ]
    },
    {
     "ename": "AttributeError",
     "evalue": "'DataFrame' object has no attribute 'Hil_HNF_C'",
     "output_type": "error",
     "traceback": [
      "\u001b[0;31m---------------------------------------------------------------------------\u001b[0m",
      "\u001b[0;31mAttributeError\u001b[0m                            Traceback (most recent call last)",
      "\u001b[0;32m/var/folders/b7/q14x28gx41l_jc7rpy5q038r0000gn/T/ipykernel_73901/957066457.py\u001b[0m in \u001b[0;36m?\u001b[0;34m()\u001b[0m\n\u001b[0;32m----> 3\u001b[0;31m \u001b[0mprint\u001b[0m\u001b[0;34m(\u001b[0m\u001b[0;34m'IGE better than HNF:'\u001b[0m\u001b[0;34m)\u001b[0m\u001b[0;34m\u001b[0m\u001b[0;34m\u001b[0m\u001b[0m\n\u001b[0m\u001b[1;32m      4\u001b[0m \u001b[0mpd\u001b[0m\u001b[0;34m.\u001b[0m\u001b[0moptions\u001b[0m\u001b[0;34m.\u001b[0m\u001b[0mdisplay\u001b[0m\u001b[0;34m.\u001b[0m\u001b[0mfloat_format\u001b[0m \u001b[0;34m=\u001b[0m \u001b[0;34m'{:,.0f}'\u001b[0m\u001b[0;34m.\u001b[0m\u001b[0mformat\u001b[0m\u001b[0;34m\u001b[0m\u001b[0;34m\u001b[0m\u001b[0m\n\u001b[1;32m      5\u001b[0m \u001b[0mdata2\u001b[0m \u001b[0;34m=\u001b[0m \u001b[0mdata\u001b[0m\u001b[0;34m[\u001b[0m\u001b[0;34m(\u001b[0m\u001b[0mdata\u001b[0m\u001b[0;34m.\u001b[0m\u001b[0mHil_HNF_C\u001b[0m\u001b[0;34m>=\u001b[0m\u001b[0;36m0\u001b[0m\u001b[0;34m)\u001b[0m \u001b[0;34m|\u001b[0m \u001b[0;34m(\u001b[0m\u001b[0mdata\u001b[0m\u001b[0;34m.\u001b[0m\u001b[0mHil_IGE_C\u001b[0m\u001b[0;34m>=\u001b[0m\u001b[0;36m0\u001b[0m\u001b[0;34m)\u001b[0m\u001b[0;34m]\u001b[0m\u001b[0;34m.\u001b[0m\u001b[0mcopy\u001b[0m\u001b[0;34m(\u001b[0m\u001b[0;34m)\u001b[0m\u001b[0;34m\u001b[0m\u001b[0;34m\u001b[0m\u001b[0m\n\u001b[1;32m      6\u001b[0m \u001b[0mdata2\u001b[0m\u001b[0;34m.\u001b[0m\u001b[0mHil_HNF_C\u001b[0m \u001b[0;34m=\u001b[0m \u001b[0mdata2\u001b[0m\u001b[0;34m.\u001b[0m\u001b[0mHil_HNF_C\u001b[0m\u001b[0;34m.\u001b[0m\u001b[0mreplace\u001b[0m\u001b[0;34m(\u001b[0m\u001b[0;34m-\u001b[0m\u001b[0;36m1\u001b[0m\u001b[0;34m,\u001b[0m \u001b[0;36m1000000\u001b[0m\u001b[0;34m)\u001b[0m\u001b[0;34m\u001b[0m\u001b[0;34m\u001b[0m\u001b[0m\n",
      "\u001b[0;32m~/miniforge3/envs/metal11/lib/python3.9/site-packages/pandas/core/generic.py\u001b[0m in \u001b[0;36m?\u001b[0;34m(self, name)\u001b[0m\n\u001b[1;32m   5985\u001b[0m             \u001b[0;32mand\u001b[0m \u001b[0mname\u001b[0m \u001b[0;32mnot\u001b[0m \u001b[0;32min\u001b[0m \u001b[0mself\u001b[0m\u001b[0;34m.\u001b[0m\u001b[0m_accessors\u001b[0m\u001b[0;34m\u001b[0m\u001b[0;34m\u001b[0m\u001b[0m\n\u001b[1;32m   5986\u001b[0m             \u001b[0;32mand\u001b[0m \u001b[0mself\u001b[0m\u001b[0;34m.\u001b[0m\u001b[0m_info_axis\u001b[0m\u001b[0;34m.\u001b[0m\u001b[0m_can_hold_identifiers_and_holds_name\u001b[0m\u001b[0;34m(\u001b[0m\u001b[0mname\u001b[0m\u001b[0;34m)\u001b[0m\u001b[0;34m\u001b[0m\u001b[0;34m\u001b[0m\u001b[0m\n\u001b[1;32m   5987\u001b[0m         ):\n\u001b[1;32m   5988\u001b[0m             \u001b[0;32mreturn\u001b[0m \u001b[0mself\u001b[0m\u001b[0;34m[\u001b[0m\u001b[0mname\u001b[0m\u001b[0;34m]\u001b[0m\u001b[0;34m\u001b[0m\u001b[0;34m\u001b[0m\u001b[0m\n\u001b[0;32m-> 5989\u001b[0;31m         \u001b[0;32mreturn\u001b[0m \u001b[0mobject\u001b[0m\u001b[0;34m.\u001b[0m\u001b[0m__getattribute__\u001b[0m\u001b[0;34m(\u001b[0m\u001b[0mself\u001b[0m\u001b[0;34m,\u001b[0m \u001b[0mname\u001b[0m\u001b[0;34m)\u001b[0m\u001b[0;34m\u001b[0m\u001b[0;34m\u001b[0m\u001b[0m\n\u001b[0m",
      "\u001b[0;31mAttributeError\u001b[0m: 'DataFrame' object has no attribute 'Hil_HNF_C'"
     ]
    }
   ],
   "source": [
    "print('IGE better than HNF:')\n",
    "pd.options.display.float_format = '{:,.0f}'.format\n",
    "data2 = data[(data.Hil_HNF_C>=0) | (data.Hil_IGE_C>=0)].copy()\n",
    "data2.Hil_HNF_C = data2.Hil_HNF_C.replace(-1, 1000000)\n",
    "data2.Hil_IGE_C = data2.Hil_IGE_C.replace(-1, 1000000)\n",
    "data2[ data2.Hil_HNF_C > 2*data2.Hil_IGE_C + 1 ][['model', 'Hil_HNF', 'Hil_HNF_C', 'Hil_IGE', 'Hil_IGE_C']]"
   ]
  },
  {
   "cell_type": "code",
   "execution_count": 16,
   "metadata": {},
   "outputs": [
    {
     "name": "stdout",
     "output_type": "stream",
     "text": [
      "HNF better than IGE:\n"
     ]
    },
    {
     "ename": "NameError",
     "evalue": "name 'data2' is not defined",
     "output_type": "error",
     "traceback": [
      "\u001b[0;31m---------------------------------------------------------------------------\u001b[0m",
      "\u001b[0;31mNameError\u001b[0m                                 Traceback (most recent call last)",
      "Cell \u001b[0;32mIn[16], line 2\u001b[0m\n\u001b[1;32m      1\u001b[0m \u001b[38;5;28mprint\u001b[39m(\u001b[38;5;124m'\u001b[39m\u001b[38;5;124mHNF better than IGE:\u001b[39m\u001b[38;5;124m'\u001b[39m)\n\u001b[0;32m----> 2\u001b[0m \u001b[43mdata2\u001b[49m[ data2\u001b[38;5;241m.\u001b[39mHil_IGE_C \u001b[38;5;241m>\u001b[39m \u001b[38;5;241m2\u001b[39m\u001b[38;5;241m*\u001b[39mdata2\u001b[38;5;241m.\u001b[39mHil_HNF_C \u001b[38;5;241m+\u001b[39m \u001b[38;5;241m1\u001b[39m ][[\u001b[38;5;124m'\u001b[39m\u001b[38;5;124mmodel\u001b[39m\u001b[38;5;124m'\u001b[39m, \u001b[38;5;124m'\u001b[39m\u001b[38;5;124mHil_HNF\u001b[39m\u001b[38;5;124m'\u001b[39m, \u001b[38;5;124m'\u001b[39m\u001b[38;5;124mHil_HNF_C\u001b[39m\u001b[38;5;124m'\u001b[39m, \u001b[38;5;124m'\u001b[39m\u001b[38;5;124mHil_IGE\u001b[39m\u001b[38;5;124m'\u001b[39m, \u001b[38;5;124m'\u001b[39m\u001b[38;5;124mHil_IGE_C\u001b[39m\u001b[38;5;124m'\u001b[39m]]\n",
      "\u001b[0;31mNameError\u001b[0m: name 'data2' is not defined"
     ]
    }
   ],
   "source": [
    "print('HNF better than IGE:')\n",
    "data2[ data2.Hil_IGE_C > 2*data2.Hil_HNF_C + 1 ][['model', 'Hil_HNF', 'Hil_HNF_C', 'Hil_IGE', 'Hil_IGE_C']]"
   ]
  },
  {
   "cell_type": "code",
   "execution_count": null,
   "metadata": {},
   "outputs": [],
   "source": []
  },
  {
   "cell_type": "code",
   "execution_count": null,
   "metadata": {},
   "outputs": [],
   "source": []
  },
  {
   "cell_type": "code",
   "execution_count": null,
   "metadata": {},
   "outputs": [],
   "source": []
  },
  {
   "cell_type": "code",
   "execution_count": null,
   "metadata": {},
   "outputs": [],
   "source": []
  },
  {
   "cell_type": "code",
   "execution_count": 204,
   "metadata": {},
   "outputs": [
    {
     "data": {
      "image/png": "[encoded data removed]",
      "text/plain": [
       "<Figure size 640x480 with 1 Axes>"
      ]
     },
     "metadata": {},
     "output_type": "display_data"
    }
   ],
   "source": [
    "def make_3dplot(ax):\n",
    "    ax.plot([0,2.5], [0,7.5], [0,0])\n",
    "    ax.plot([0,2.5], [0,0], [0,7.5])\n",
    "\n",
    "    ax.plot_trisurf(np.array([0, 2.5, 2.5]), \n",
    "                    np.array([0, 7.5, 0]),\n",
    "                    np.array([0, 0, 7.5]), alpha=.25)\n",
    "    ax.scatter3D([0], [0], [0], c='black')\n",
    "    ax.scatter3D([1], [3], [0], c='r')\n",
    "    ax.scatter3D([1], [0], [3], c='r')\n",
    "    ax.scatter3D([1], [1], [2], c='g')\n",
    "    ax.scatter3D([1], [2], [1], c='g')\n",
    "\n",
    "    ax.scatter3D([2], [2], [4], c='b')\n",
    "    ax.scatter3D([2], [4], [2], c='b')\n",
    "    ax.scatter3D([2], [1], [5], c='b')\n",
    "    ax.scatter3D([2], [5], [1], c='b')\n",
    "    ax.scatter3D([2], [6], [0], c='b')\n",
    "    ax.scatter3D([2], [0], [6], c='b')\n",
    "    ax.scatter3D([2], [3], [3], c='b')\n",
    "\n",
    "    ax.set_xlabel('$P_0$', fontsize=14)\n",
    "    ax.set_ylabel('$P_1$', fontsize=14)\n",
    "    ax.set_zlabel('$P_2$', fontsize=14)\n",
    "\n",
    "    ax.set_xticks(range(3))\n",
    "    ax.set_yticks(range(7))\n",
    "    ax.set_zticks(range(7))\n",
    "\n",
    "ax = plt.figure().add_subplot(projection='3d')\n",
    "make_3dplot(ax)"
   ]
  },
  {
   "cell_type": "code",
   "execution_count": 206,
   "metadata": {},
   "outputs": [
    {
     "name": "stderr",
     "output_type": "stream",
     "text": [
      "  0%|          | 0/1441 [00:00<?, ?it/s]"
     ]
    },
    {
     "name": "stderr",
     "output_type": "stream",
     "text": [
      "100%|██████████| 1441/1441 [02:06<00:00, 11.37it/s]\n"
     ]
    }
   ],
   "source": [
    "# Rotate the axes and update\n",
    "for angle in tqdm(range(0, 360*4 + 1)):\n",
    "    ax = plt.figure().add_subplot(projection='3d')\n",
    "    # Normalize the angle to the range [-180, 180] for display\n",
    "    angle_norm = (angle + 180) % 360 - 180\n",
    "\n",
    "    # Cycle through a full rotation of elevation, then azimuth, roll, and all\n",
    "    elev = azim = roll = 0\n",
    "    if angle <= 360:\n",
    "        elev = angle_norm\n",
    "    elif angle <= 360*2:\n",
    "        azim = angle_norm\n",
    "    elif angle <= 360*3:\n",
    "        roll = angle_norm\n",
    "    else:\n",
    "        elev = azim = roll = angle_norm\n",
    "\n",
    "    # Update the axis view and title\n",
    "    ax.view_init(elev, azim, roll)\n",
    "    plt.title('Elevation: %d°, Azimuth: %d°, Roll: %d°' % (elev, azim, roll))\n",
    "    make_3dplot(ax)\n",
    "\n",
    "    # plt.draw()\n",
    "    plt.savefig(f\"video/image_{angle:03}.png\")\n",
    "    plt.close()\n",
    "    # plt.pause(.001)\n",
    "\n",
    "    # ffmpeg -framerate 24 -i video/image_%3d.png -r 10 -pix_fmt yuv420p video.mp4"
   ]
  },
  {
   "cell_type": "code",
   "execution_count": null,
   "metadata": {},
   "outputs": [],
   "source": []
  }
 ],
 "metadata": {
  "kernelspec": {
   "display_name": "tf11gpu",
   "language": "python",
   "name": "python3"
  },
  "language_info": {
   "codemirror_mode": {
    "name": "ipython",
    "version": 3
   },
   "file_extension": ".py",
   "mimetype": "text/x-python",
   "name": "python",
   "nbconvert_exporter": "python",
   "pygments_lexer": "ipython3",
   "version": "3.9.15"
  },
  "orig_nbformat": 4
 },
 "nbformat": 4,
 "nbformat_minor": 2
}
