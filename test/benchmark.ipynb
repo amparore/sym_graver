{
 "cells": [
  {
   "cell_type": "code",
   "execution_count": 1,
   "metadata": {},
   "outputs": [],
   "source": [
    "import numpy as np\n",
    "import pandas as pd\n",
    "import math\n",
    "from itertools import count\n",
    "from tqdm.auto import tqdm\n",
    "import threading\n",
    "import os, platform\n",
    "import multiprocessing\n",
    "import subprocess\n",
    "from queue import Empty as QueueEmpty\n",
    "import matplotlib.pyplot as plt\n",
    "pd.set_option('display.max_columns', None)"
   ]
  },
  {
   "cell_type": "code",
   "execution_count": 63,
   "metadata": {},
   "outputs": [],
   "source": [
    "model_list_name, output_dir = 'models_mcc200', 'results_mcc200'\n",
    "# model_list_name, output_dir = 'models_mcc200quick', 'results_mcc200quick'\n",
    "# model_list_name, output_dir = 'models_random', 'results_random'\n",
    "max_time = 5 # 5\n",
    "n_parallel = 2 # 8\n",
    "run_all = False # run all tests or only those that don't have the .log file"
   ]
  },
  {
   "cell_type": "code",
   "execution_count": 64,
   "metadata": {},
   "outputs": [
    {
     "name": "stdout",
     "output_type": "stream",
     "text": [
      "200\n"
     ]
    }
   ],
   "source": [
    "# Load models and benchmark definition\n",
    "model_list = open(model_list_name+'.txt', 'r').readlines()\n",
    "model_list = [ f.replace('\\n', '') for f in model_list ]\n",
    "model_list = [ f for f in model_list if len(f) > 0 ]\n",
    "# model_list = model_list[:10]\n",
    "print(len(model_list))\n",
    "os.makedirs(output_dir, exist_ok=True)"
   ]
  },
  {
   "cell_type": "code",
   "execution_count": 65,
   "metadata": {
    "metadata": {}
   },
   "outputs": [],
   "source": [
    "def run_commands(queue, pin, pbar):\n",
    "    while True:\n",
    "        try:\n",
    "            qe = queue.get()#block=False)\n",
    "            if qe is None:\n",
    "                break\n",
    "            # print(qe)\n",
    "            tool, test_name, args, model_fname = qe\n",
    "            model_basename = model_fname.split('/')[-1]\n",
    "            logfile = f'{output_dir}/{model_basename}-{test_name}.log'\n",
    "            os.remove(logfile) if os.path.exists(logfile) else None\n",
    "            if run_all or not os.path.exists(logfile):\n",
    "                # print(logfile)\n",
    "                with open(logfile, 'w') as f:\n",
    "                    print('****************', file=f)\n",
    "                    print(f'MODEL={model_fname}\\n', file=f)\n",
    "                    f.flush()\n",
    "                    if platform.system()=='Darwin':\n",
    "                        cmd = f'gtimeout {max_time}s '\n",
    "                    else:\n",
    "                        cmd = f'/usr/bin/time --verbose /usr/bin/timeout {max_time}s taskset -c {2*pin} ' \n",
    "                    # cmd = ''\n",
    "                    if tool=='sym':\n",
    "                        cmd += f'../build/sym_hilbert -c -p -u {model_fname} {args} '\n",
    "                    elif tool=='4ti2':\n",
    "                        cmd += f'{args} {model_fname} '\n",
    "                \n",
    "                    try:\n",
    "                        proc = subprocess.run(cmd, shell=True, stdout=f, stderr=f)\n",
    "                        exitcode = proc.returncode\n",
    "                    except subprocess.TimeoutExpired:\n",
    "                        exitcode = 124  # timeout\n",
    "\n",
    "                # append exit status to the log file\n",
    "                with open(logfile, 'a') as f:\n",
    "                    print(f'\\nEXITCODE={exitcode}\\n', file=f)\n",
    "\n",
    "                if exitcode not in [0,124]:\n",
    "                    print(qe, f'EXITCODE={exitcode}')\n",
    "            pbar.update(1)\n",
    "        except QueueEmpty:\n",
    "            print('queue empty')\n",
    "            break # no more commands\n",
    "    # print(f'Thread {pin} ends.')"
   ]
  },
  {
   "cell_type": "code",
   "execution_count": 66,
   "metadata": {
    "metadata": {}
   },
   "outputs": [
    {
     "name": "stdout",
     "output_type": "stream",
     "text": [
      "num_runs= 400\n"
     ]
    }
   ],
   "source": [
    "tests = [\n",
    "    # # [ \"sym\",  'TestKerA',    '' ],\n",
    "    # ######### Hilbert basis #########\n",
    "    # [ \"4ti2\", \"Hil_4ti2\",  \"/home/elvio/4ti2/src/zsolve/hilbert\" ],\n",
    "    # [ \"sym\",  'Hil_Ga',    '-ye -nl' ],\n",
    "    # [ \"sym\",  'Hil_GL',    '-ye -yl' ],\n",
    "    # [ \"sym\",  'Hil_na',    '-ne -nl' ],\n",
    "    # [ \"sym\",  'Hil_nL',    '-ne -yl' ],\n",
    "    # [ \"sym\",  'Hil_nLH',    '-ne -yl -hg' ],\n",
    "    # [ \"sym\",  'Hil_LD',    '-ne -yl -yd' ],\n",
    "    # # [ \"sym\",  'Hil_nP',    '-ne -yl -po' ],\n",
    "    # [ \"sym\",  'Hil_LS',    '-ne -yl -s' ],\n",
    "    # # [ \"sym\",  'Hil_LZ',    '-ne -yl -z' ],\n",
    "    # # [ \"sym\",  'Hil_LZD',   '-ne -yl -z -yd' ],\n",
    "    # # [ \"sym\",  'Hil_LZS',   '-ne -yl -z -yd -s' ],\n",
    "    # [ \"sym\",  'Hil_HNF',   '-ne -yl -yd -np' ],\n",
    "    # [ \"sym\",  'Hil_IGE',   '-ne -yl -yd -np -ige' ],\n",
    "\n",
    "    # ######### Extreme Rays #########\n",
    "    # # [ \"4ti2\", \"Ray_4ti2\",  \"/home/elvio/4ti2/src/groebner/rays\" ],\n",
    "    # [ \"sym\",  'Ray_nL',    '-ne -yl -x' ],\n",
    "    # # [ \"sym\",  'Ray_LZ',    '-ne -yl -z -x' ],\n",
    "    # # [ \"sym\",  'Ray_LD',    '-ne -yl -d -x' ],\n",
    "    # # [ \"sym\",  'Ray_LZD',   '-ne -yl -z -yd -x' ],\n",
    "    # # [ \"sym\",  'Ray_LS',    '-ne -yl -s -x' ],\n",
    "    # # # [ \"sym\",  'Ray_LZS',   '-ne -yl -z -s -x' ],\n",
    "    # # # [ \"sym\",  'Ray_nP',    '-ne -yl -po -x' ],\n",
    "\n",
    "    # ######### Graver basis #########\n",
    "    # [ \"4ti2\", \"Gra_4ti2\",  \"/home/elvio/4ti2/src/zsolve/graver\" ], \n",
    "    # # [ \"4ti2\", \"Gra_4ti2\",  \"time graver\" ], # \"/home/elvio/4ti2/src/zsolve/graver\"\n",
    "    # # [ \"sym\",  'Gra_Ga',    '-ye -nl -g' ],\n",
    "    # [ \"sym\",  'Gra_pottier',   '-g -nl' ],\n",
    "    # [ \"sym\",  'Gra_PnL',       '-g -yl' ],\n",
    "    # # [ \"sym\",  'Gra_nG',    '-yeg -nl -g -po' ],\n",
    "    # [ \"sym\",  'Gra_degree',    '-g -s -ps' ],\n",
    "    # # [ \"sym\",  'Gra_nLH',    '-ne -yl -g -hg' ],\n",
    "    # # # # [ \"sym\",  'Gra_nP',    '-ne -yl -po -g' ],\n",
    "\n",
    "\n",
    "\n",
    "    [ \"sym\",  'Gra_degree',    '-g -s -ps' ],\n",
    "    # [ \"sym\",  'Ray_degree',    '-x -s -ps' ], # deactivated\n",
    "    [ \"sym\",  'Hil_degree',    '   -s -ps' ],\n",
    "\n",
    "    # [ \"sym\",  'Hil_pottier',    '-nl' ],\n",
    "    # [ \"sym\",  'Hil_PnL',    '-yl' ],\n",
    "\n",
    "    # [ \"sym\",  'Ray_pottier',   '-x -nl' ],\n",
    "    # [ \"sym\",  'Ray_PnL',       '-x -yl' ],\n",
    "    # [ \"sym\",  'Ray_degree',    '-x -yl -s' ],\n",
    "]\n",
    "# generate commands\n",
    "queue = multiprocessing.Queue(maxsize=10000)\n",
    "num_runs = 0\n",
    "for tool, test_name, args in tests:\n",
    "    for model in model_list:\n",
    "        queue.put([tool,  test_name, args, model])\n",
    "        num_runs += 1\n",
    "print('num_runs=',num_runs)\n",
    "for i in range(n_parallel):\n",
    "    queue.put(None)"
   ]
  },
  {
   "cell_type": "code",
   "execution_count": 67,
   "metadata": {
    "metadata": {}
   },
   "outputs": [
    {
     "data": {
      "application/vnd.jupyter.widget-view+json": {
       "model_id": "1f91b771dc57467ea0594d89d8e2a644",
       "version_major": 2,
       "version_minor": 0
      },
      "text/plain": [
       "  0%|          | 0/400 [00:00<?, ?it/s]"
      ]
     },
     "metadata": {},
     "output_type": "display_data"
    },
    {
     "name": "stdout",
     "output_type": "stream",
     "text": [
      "Done\n"
     ]
    }
   ],
   "source": [
    "with tqdm(total=num_runs) as pbar:\n",
    "    # run the commands in parallel\n",
    "    threads = []\n",
    "    for i in range(n_parallel):\n",
    "        threads.append(threading.Thread(target=run_commands, args=(queue, i, pbar)))\n",
    "        \n",
    "    for t in threads: # start all threads\n",
    "        t.start()\n",
    "    for t in threads: # wait for all terminations\n",
    "        t.join()\n",
    "queue.close()\n",
    "print('Done')"
   ]
  },
  {
   "cell_type": "code",
   "execution_count": 27,
   "metadata": {
    "metadata": {}
   },
   "outputs": [
    {
     "name": "stdout",
     "output_type": "stream",
     "text": [
      "data_models_random.csv\n"
     ]
    }
   ],
   "source": [
    "data = []\n",
    "for model_fname in model_list:\n",
    "    model_basename = model_fname.split('/')[-1]\n",
    "    row = {'model':model_basename}\n",
    "    row['mdd_nodes'] = row['mdd_edges'] = None\n",
    "    for tool, test_name, args in tests:\n",
    "        logfile = f'{output_dir}/{model_basename}-{test_name}.log'\n",
    "        if os.path.exists(logfile):\n",
    "            tm = None\n",
    "            cntC = None\n",
    "            with open(logfile) as f:\n",
    "                for line in f:\n",
    "                    line = line.strip()\n",
    "                    if line.startswith('User time'):\n",
    "                        tm = float(line.split(':')[1])\n",
    "                    elif line.startswith('CPU usage'):\n",
    "                        tm = float(line.split(':')[1])\n",
    "                    elif 'user' in line and 'sys' in line:\n",
    "                        tm = float(line.split()[2])\n",
    "                    elif line.startswith('Total S-Vectors processed') or line.startswith('_completes:') or line.startswith('Added:'):\n",
    "                        # print(line, float(line.split(':')[1]))\n",
    "                        cntC = int(line.split(':')[1])\n",
    "                    elif line.startswith('EXITCODE'):\n",
    "                        # ec = int(re.sub(' +', ' ', line).split(' ')[1])\n",
    "                        ec = int(line.split('=')[1])\n",
    "                        if ec==124:\n",
    "                            tm = None\n",
    "                        elif ec != 0:\n",
    "                            print(line, logfile)\n",
    "                    elif line.startswith('Z-Generators:'):\n",
    "                        row['num_Zgens'] = int(line.split(':')[1])\n",
    "                    elif line.startswith('Basis:'):\n",
    "                        row['out_sz'] = float(line.split(':')[1])\n",
    "                    elif line.startswith('Variables:'):\n",
    "                        row['num_vars'] = int(line.split(':')[1])\n",
    "                    elif line.startswith('Basis MDD Nodes:'):\n",
    "                        row['mdd_nodes'] = int(line.split(':')[1])\n",
    "                    elif line.startswith('Basis MDD Edges:'):\n",
    "                        row['mdd_edges'] = int(line.split(':')[1])\n",
    "            row[test_name] = tm\n",
    "            row[test_name+'_C'] = cntC\n",
    "    data.append(row)\n",
    "data = pd.DataFrame(data)\n",
    "data.to_csv(f'data_{model_list_name}.csv', index=False)\n",
    "print(f'data_{model_list_name}.csv')"
   ]
  },
  {
   "cell_type": "code",
   "execution_count": 28,
   "metadata": {
    "metadata": {}
   },
   "outputs": [
    {
     "data": {
      "text/html": [
       "<div>\n",
       "<style scoped>\n",
       "    .dataframe tbody tr th:only-of-type {\n",
       "        vertical-align: middle;\n",
       "    }\n",
       "\n",
       "    .dataframe tbody tr th {\n",
       "        vertical-align: top;\n",
       "    }\n",
       "\n",
       "    .dataframe thead th {\n",
       "        text-align: right;\n",
       "    }\n",
       "</style>\n",
       "<table border=\"1\" class=\"dataframe\">\n",
       "  <thead>\n",
       "    <tr style=\"text-align: right;\">\n",
       "      <th></th>\n",
       "      <th>model</th>\n",
       "      <th>mdd_nodes</th>\n",
       "      <th>mdd_edges</th>\n",
       "      <th>num_Zgens</th>\n",
       "      <th>num_vars</th>\n",
       "      <th>out_sz</th>\n",
       "      <th>Hil_PnL</th>\n",
       "      <th>Hil_PnL_C</th>\n",
       "    </tr>\n",
       "  </thead>\n",
       "  <tbody>\n",
       "    <tr>\n",
       "      <th>0</th>\n",
       "      <td>in000</td>\n",
       "      <td>573</td>\n",
       "      <td>851</td>\n",
       "      <td>5</td>\n",
       "      <td>9</td>\n",
       "      <td>279.0</td>\n",
       "      <td>0.045766</td>\n",
       "      <td>2243</td>\n",
       "    </tr>\n",
       "    <tr>\n",
       "      <th>1</th>\n",
       "      <td>in001</td>\n",
       "      <td>139</td>\n",
       "      <td>159</td>\n",
       "      <td>3</td>\n",
       "      <td>8</td>\n",
       "      <td>21.0</td>\n",
       "      <td>0.137267</td>\n",
       "      <td>1265</td>\n",
       "    </tr>\n",
       "    <tr>\n",
       "      <th>2</th>\n",
       "      <td>in002</td>\n",
       "      <td>101</td>\n",
       "      <td>121</td>\n",
       "      <td>4</td>\n",
       "      <td>8</td>\n",
       "      <td>21.0</td>\n",
       "      <td>0.028677</td>\n",
       "      <td>884</td>\n",
       "    </tr>\n",
       "    <tr>\n",
       "      <th>3</th>\n",
       "      <td>in003</td>\n",
       "      <td>72</td>\n",
       "      <td>85</td>\n",
       "      <td>6</td>\n",
       "      <td>9</td>\n",
       "      <td>14.0</td>\n",
       "      <td>0.003584</td>\n",
       "      <td>52</td>\n",
       "    </tr>\n",
       "    <tr>\n",
       "      <th>4</th>\n",
       "      <td>in004</td>\n",
       "      <td>35</td>\n",
       "      <td>44</td>\n",
       "      <td>3</td>\n",
       "      <td>6</td>\n",
       "      <td>10.0</td>\n",
       "      <td>0.004473</td>\n",
       "      <td>67</td>\n",
       "    </tr>\n",
       "    <tr>\n",
       "      <th>5</th>\n",
       "      <td>in005</td>\n",
       "      <td>55</td>\n",
       "      <td>76</td>\n",
       "      <td>5</td>\n",
       "      <td>8</td>\n",
       "      <td>26.0</td>\n",
       "      <td>0.003751</td>\n",
       "      <td>99</td>\n",
       "    </tr>\n",
       "    <tr>\n",
       "      <th>6</th>\n",
       "      <td>in006</td>\n",
       "      <td>70</td>\n",
       "      <td>92</td>\n",
       "      <td>5</td>\n",
       "      <td>8</td>\n",
       "      <td>23.0</td>\n",
       "      <td>0.003371</td>\n",
       "      <td>100</td>\n",
       "    </tr>\n",
       "    <tr>\n",
       "      <th>7</th>\n",
       "      <td>in007</td>\n",
       "      <td>88</td>\n",
       "      <td>102</td>\n",
       "      <td>5</td>\n",
       "      <td>9</td>\n",
       "      <td>15.0</td>\n",
       "      <td>0.035583</td>\n",
       "      <td>1208</td>\n",
       "    </tr>\n",
       "    <tr>\n",
       "      <th>8</th>\n",
       "      <td>in008</td>\n",
       "      <td>231</td>\n",
       "      <td>302</td>\n",
       "      <td>6</td>\n",
       "      <td>9</td>\n",
       "      <td>72.0</td>\n",
       "      <td>0.020294</td>\n",
       "      <td>1198</td>\n",
       "    </tr>\n",
       "    <tr>\n",
       "      <th>9</th>\n",
       "      <td>in009</td>\n",
       "      <td>44</td>\n",
       "      <td>55</td>\n",
       "      <td>4</td>\n",
       "      <td>7</td>\n",
       "      <td>12.0</td>\n",
       "      <td>0.002622</td>\n",
       "      <td>25</td>\n",
       "    </tr>\n",
       "  </tbody>\n",
       "</table>\n",
       "</div>"
      ],
      "text/plain": [
       "   model  mdd_nodes  mdd_edges  num_Zgens  num_vars  out_sz   Hil_PnL   \n",
       "0  in000        573        851          5         9   279.0  0.045766  \\\n",
       "1  in001        139        159          3         8    21.0  0.137267   \n",
       "2  in002        101        121          4         8    21.0  0.028677   \n",
       "3  in003         72         85          6         9    14.0  0.003584   \n",
       "4  in004         35         44          3         6    10.0  0.004473   \n",
       "5  in005         55         76          5         8    26.0  0.003751   \n",
       "6  in006         70         92          5         8    23.0  0.003371   \n",
       "7  in007         88        102          5         9    15.0  0.035583   \n",
       "8  in008        231        302          6         9    72.0  0.020294   \n",
       "9  in009         44         55          4         7    12.0  0.002622   \n",
       "\n",
       "   Hil_PnL_C  \n",
       "0       2243  \n",
       "1       1265  \n",
       "2        884  \n",
       "3         52  \n",
       "4         67  \n",
       "5         99  \n",
       "6        100  \n",
       "7       1208  \n",
       "8       1198  \n",
       "9         25  "
      ]
     },
     "execution_count": 28,
     "metadata": {},
     "output_type": "execute_result"
    }
   ],
   "source": [
    "data.head(10)"
   ]
  },
  {
   "cell_type": "code",
   "execution_count": 29,
   "metadata": {
    "metadata": {}
   },
   "outputs": [],
   "source": [
    "# # from decimal import Decimal\n",
    "# data = pd.read_csv(f'data_{output_dir}.csv')\n",
    "# for c in data.columns:\n",
    "#     if c.endswith('_C'):\n",
    "#         data[c] = pd.to_numeric(data[c])#.astype(Decimal)\n",
    "#     if c.startswith('Hil_'):\n",
    "#         data[c] = data[c].astype(float)"
   ]
  },
  {
   "cell_type": "markdown",
   "metadata": {},
   "source": [
    "## Plot"
   ]
  },
  {
   "cell_type": "code",
   "execution_count": 30,
   "metadata": {},
   "outputs": [
    {
     "data": {
      "text/html": [
       "<div>\n",
       "<style scoped>\n",
       "    .dataframe tbody tr th:only-of-type {\n",
       "        vertical-align: middle;\n",
       "    }\n",
       "\n",
       "    .dataframe tbody tr th {\n",
       "        vertical-align: top;\n",
       "    }\n",
       "\n",
       "    .dataframe thead th {\n",
       "        text-align: right;\n",
       "    }\n",
       "</style>\n",
       "<table border=\"1\" class=\"dataframe\">\n",
       "  <thead>\n",
       "    <tr style=\"text-align: right;\">\n",
       "      <th></th>\n",
       "      <th>model</th>\n",
       "      <th>mdd_nodes</th>\n",
       "      <th>mdd_edges</th>\n",
       "      <th>num_Zgens</th>\n",
       "      <th>num_vars</th>\n",
       "      <th>out_sz</th>\n",
       "      <th>Hil_PnL</th>\n",
       "      <th>Hil_PnL_C</th>\n",
       "    </tr>\n",
       "  </thead>\n",
       "  <tbody>\n",
       "    <tr>\n",
       "      <th>0</th>\n",
       "      <td>in000</td>\n",
       "      <td>573</td>\n",
       "      <td>851</td>\n",
       "      <td>5</td>\n",
       "      <td>9</td>\n",
       "      <td>279.0</td>\n",
       "      <td>0.045766</td>\n",
       "      <td>2243</td>\n",
       "    </tr>\n",
       "    <tr>\n",
       "      <th>1</th>\n",
       "      <td>in001</td>\n",
       "      <td>139</td>\n",
       "      <td>159</td>\n",
       "      <td>3</td>\n",
       "      <td>8</td>\n",
       "      <td>21.0</td>\n",
       "      <td>0.137267</td>\n",
       "      <td>1265</td>\n",
       "    </tr>\n",
       "    <tr>\n",
       "      <th>2</th>\n",
       "      <td>in002</td>\n",
       "      <td>101</td>\n",
       "      <td>121</td>\n",
       "      <td>4</td>\n",
       "      <td>8</td>\n",
       "      <td>21.0</td>\n",
       "      <td>0.028677</td>\n",
       "      <td>884</td>\n",
       "    </tr>\n",
       "  </tbody>\n",
       "</table>\n",
       "</div>"
      ],
      "text/plain": [
       "   model  mdd_nodes  mdd_edges  num_Zgens  num_vars  out_sz   Hil_PnL   \n",
       "0  in000        573        851          5         9   279.0  0.045766  \\\n",
       "1  in001        139        159          3         8    21.0  0.137267   \n",
       "2  in002        101        121          4         8    21.0  0.028677   \n",
       "\n",
       "   Hil_PnL_C  \n",
       "0       2243  \n",
       "1       1265  \n",
       "2        884  "
      ]
     },
     "execution_count": 30,
     "metadata": {},
     "output_type": "execute_result"
    }
   ],
   "source": [
    "plot_list_name = 'models_random'\n",
    "# plot_list_name = 'models_mcc200'\n",
    "data = pd.read_csv(f'data_{plot_list_name}.csv')\n",
    "data.head(3)"
   ]
  },
  {
   "cell_type": "code",
   "execution_count": 31,
   "metadata": {
    "metadata": {}
   },
   "outputs": [],
   "source": [
    "name_map = { 'Ga':'G*', 'na':'**', 'nL':'*L', 'nP':'*P', 'LD':'*LD', 'LS':'*LS', \n",
    "             'LZ':'*LZ', 'LZD':'*LZD', 'LZS':'*LZS', 'LZS2':'*LZS2', '4ti2':'4ti2',\n",
    "             'pottier':'Pottier', 'PnL':'Project&Lift', 'degree':'Graded' }\n",
    "order_map = { '4ti2':100, 'pottier':0, 'PnL':1, 'degree':2 }"
   ]
  },
  {
   "cell_type": "code",
   "execution_count": 32,
   "metadata": {
    "metadata": {}
   },
   "outputs": [],
   "source": [
    "col_names = sorted([c for c in data.columns if '_' in c and not c.endswith('_C') ], reverse=True)"
   ]
  },
  {
   "cell_type": "code",
   "execution_count": 33,
   "metadata": {
    "metadata": {}
   },
   "outputs": [
    {
     "name": "stdout",
     "output_type": "stream",
     "text": [
      "['Hil_PnL'] ['Hil_PnL']\n"
     ]
    },
    {
     "data": {
      "image/png": "[encoded data removed]",
      "text/plain": [
       "<Figure size 400x300 with 1 Axes>"
      ]
     },
     "metadata": {},
     "output_type": "display_data"
    }
   ],
   "source": [
    "def remap(s): \n",
    "    return name_map[s] if s in name_map else s\n",
    "# vecs = [np.array(new_list[c]) for c in col_names]\n",
    "fig,axes = plt.subplots(1,1, figsize=(4, 3))\n",
    "# fig,axes = plt.subplots(1,3, figsize=(12, 3), width_ratios=[4,3,2])\n",
    "y_tout = 7\n",
    "xx = (np.random.rand(len(data)) - 0.5) * 0.6\n",
    "yy = np.random.rand(len(data)) + y_tout\n",
    "for jj in [0]:#range(3):\n",
    "    prefix = {0:('Hil', 'Hilbert basis'), 1:('Ray', 'Extremal rays'), 2:('Gra', 'Graver basis')}\n",
    "    ax = axes\n",
    "    jj_col_names = [c for c in col_names if c.startswith(prefix[jj][0])]\n",
    "    jj_col_names = [(order_map[c.split('_')[1]], c) for c in jj_col_names]\n",
    "    jj_col_names = [c for _,c in sorted(jj_col_names)]\n",
    "    print(jj_col_names, sorted(jj_col_names))\n",
    "    for i, col_name in enumerate(jj_col_names):\n",
    "        vv = np.array(data[col_name])\n",
    "        filter_tout = np.logical_not(np.isnan(vv))\n",
    "        num_tout = np.sum(np.logical_not(filter_tout))\n",
    "        # vv[vv<0] = yy[vv<0]\n",
    "        ax.scatter(xx[filter_tout]+i, vv[filter_tout], s=5)\n",
    "        ax.text(i, y_tout, f'{num_tout}', fontsize=10, ha='center', va='bottom')\n",
    "        ax.text(i, -.75, f'{len(vv)-num_tout}', fontsize=10, ha='center')\n",
    "    ax.set_title(prefix[jj][1])\n",
    "    \n",
    "    ax.set_xticks(range(len(jj_col_names)), [remap(c.split('_')[1]) for c in jj_col_names])\n",
    "    ax.set_yticks(list(range(6))+[y_tout+.5], [f'{s}s' for s in list(range(6))]+['timed\\nout'])\n",
    "    ax.vlines(i-.5, -1, y_tout+2) \n",
    "    ax.set_ylim(-1, y_tout+1.5)\n",
    "plt.tight_layout()\n",
    "plt.savefig(f'{plot_list_name}-time.pdf', bbox_inches='tight')\n",
    "plt.show()"
   ]
  },
  {
   "cell_type": "code",
   "execution_count": 34,
   "metadata": {
    "metadata": {}
   },
   "outputs": [
    {
     "data": {
      "image/png": "[encoded data removed]",
      "text/plain": [
       "<Figure size 400x300 with 1 Axes>"
      ]
     },
     "metadata": {},
     "output_type": "display_data"
    }
   ],
   "source": [
    "from matplotlib  import colormaps\n",
    "cmap = colormaps['Dark2']\n",
    "fig,axes = plt.subplots(1,1, figsize=(4, 3))\n",
    "# fig,axes = plt.subplots(1,3, figsize=(12, 3), width_ratios=[4,3,2])\n",
    "for jj in [0]: #range(3):\n",
    "#     if jj==1: continue\n",
    "    prefix = {0:('Hil', 'Hilbert basis'), 1:('Ray', 'Extremal rays'), 2:('Gra', 'Graver basis')}\n",
    "    ax = axes\n",
    "    jj_col_names = [c for c in col_names if c.startswith(prefix[jj][0])]# and not '4ti2' in c]\n",
    "    jj_col_names = [(order_map[c.split('_')[1]], c) for c in jj_col_names]\n",
    "    jj_col_names = [c for _,c in sorted(jj_col_names)]\n",
    "    NL = data.copy()\n",
    "    y_tout = 1\n",
    "    for n in jj_col_names:\n",
    "        # NL = NL[ NL[n+'_C'] != -1 ]\n",
    "        NL = NL[ np.logical_not(np.isnan(NL[n+'_C'])) ]\n",
    "    for n in jj_col_names:\n",
    "        y_tout = max(y_tout, int(NL[n+'_C'].max()))\n",
    "    y_tout *= 10\n",
    "    xx = (np.random.rand(len(NL)) - 0.5) * 0.6\n",
    "    yy = np.random.rand(len(NL)) + y_tout\n",
    "    for i, col_name in enumerate(jj_col_names):\n",
    "        vv = np.array(NL[col_name])\n",
    "        vC = np.array(NL[col_name+'_C'], dtype=int)\n",
    "        tout_mask = vv<0\n",
    "        num_tout = np.sum(tout_mask)\n",
    "#         y_tout = 1e+15\n",
    "        vC[tout_mask] = yy[tout_mask]\n",
    "        vC[vC < 0] = 1\n",
    "        ax.scatter(xx+i, vC, s=5, color=cmap(i))\n",
    "#         ax.text(i, y_tout-.75, f'{num_tout}', fontsize=12, ha='center')\n",
    "        ax.text(i, 0.15, f'{len(vv)-num_tout}', fontsize=10, ha='center')\n",
    "    ax.set_title(prefix[jj][1])\n",
    "    \n",
    "    ax.set_xticks(range(len(jj_col_names)), [remap(c.split('_')[1]) for c in jj_col_names])\n",
    "#     ax.set_yticks(list(range(6))+[y_tout+.5], [f'{s}s' for s in list(range(6))]+['timed\\nout'])\n",
    "    ax.vlines(i-.5, -1, y_tout+2) \n",
    "    ax.set_ylim(0.099, y_tout) \n",
    "    ax.set_yscale('log')\n",
    "    ax.set_ylabel('Num processed S-vectors')\n",
    "plt.tight_layout()\n",
    "plt.savefig(f'{plot_list_name}-svectors.pdf', bbox_inches='tight')\n",
    "plt.show()"
   ]
  },
  {
   "cell_type": "code",
   "execution_count": null,
   "metadata": {},
   "outputs": [],
   "source": []
  },
  {
   "cell_type": "code",
   "execution_count": 427,
   "metadata": {},
   "outputs": [
    {
     "name": "stdout",
     "output_type": "stream",
     "text": [
      "Hil_nLH better than Hil_nL:\n"
     ]
    },
    {
     "data": {
      "text/html": [
       "<div>\n",
       "<style scoped>\n",
       "    .dataframe tbody tr th:only-of-type {\n",
       "        vertical-align: middle;\n",
       "    }\n",
       "\n",
       "    .dataframe tbody tr th {\n",
       "        vertical-align: top;\n",
       "    }\n",
       "\n",
       "    .dataframe thead th {\n",
       "        text-align: right;\n",
       "    }\n",
       "</style>\n",
       "<table border=\"1\" class=\"dataframe\">\n",
       "  <thead>\n",
       "    <tr style=\"text-align: right;\">\n",
       "      <th></th>\n",
       "      <th>model</th>\n",
       "      <th>Hil_nL</th>\n",
       "      <th>Hil_nL_C</th>\n",
       "      <th>Hil_nLH</th>\n",
       "      <th>Hil_nLH_C</th>\n",
       "    </tr>\n",
       "  </thead>\n",
       "  <tbody>\n",
       "    <tr>\n",
       "      <th>5</th>\n",
       "      <td>AutoFlight-PT-01b</td>\n",
       "      <td>0</td>\n",
       "      <td>15</td>\n",
       "      <td>0</td>\n",
       "      <td>6</td>\n",
       "    </tr>\n",
       "    <tr>\n",
       "      <th>59</th>\n",
       "      <td>FlexibleBarrier-PT-04a</td>\n",
       "      <td>0</td>\n",
       "      <td>5</td>\n",
       "      <td>0</td>\n",
       "      <td>0</td>\n",
       "    </tr>\n",
       "    <tr>\n",
       "      <th>84</th>\n",
       "      <td>MultiwaySync-PT-none</td>\n",
       "      <td>1</td>\n",
       "      <td>24</td>\n",
       "      <td>1</td>\n",
       "      <td>0</td>\n",
       "    </tr>\n",
       "    <tr>\n",
       "      <th>88</th>\n",
       "      <td>NoC3x3-PT-1A</td>\n",
       "      <td>1</td>\n",
       "      <td>39</td>\n",
       "      <td>1</td>\n",
       "      <td>0</td>\n",
       "    </tr>\n",
       "    <tr>\n",
       "      <th>119</th>\n",
       "      <td>Raft-PT-02</td>\n",
       "      <td>0</td>\n",
       "      <td>3</td>\n",
       "      <td>0</td>\n",
       "      <td>0</td>\n",
       "    </tr>\n",
       "    <tr>\n",
       "      <th>124</th>\n",
       "      <td>Referendum-PT-0015</td>\n",
       "      <td>0</td>\n",
       "      <td>14</td>\n",
       "      <td>0</td>\n",
       "      <td>0</td>\n",
       "    </tr>\n",
       "    <tr>\n",
       "      <th>152</th>\n",
       "      <td>ShieldIIPt-PT-002A</td>\n",
       "      <td>0</td>\n",
       "      <td>20</td>\n",
       "      <td>0</td>\n",
       "      <td>4</td>\n",
       "    </tr>\n",
       "    <tr>\n",
       "      <th>154</th>\n",
       "      <td>ShieldPPPs-PT-001A</td>\n",
       "      <td>0</td>\n",
       "      <td>13</td>\n",
       "      <td>0</td>\n",
       "      <td>4</td>\n",
       "    </tr>\n",
       "    <tr>\n",
       "      <th>157</th>\n",
       "      <td>ShieldPPPt-PT-001B</td>\n",
       "      <td>0</td>\n",
       "      <td>34</td>\n",
       "      <td>0</td>\n",
       "      <td>8</td>\n",
       "    </tr>\n",
       "    <tr>\n",
       "      <th>159</th>\n",
       "      <td>ShieldRVt-PT-001A</td>\n",
       "      <td>0</td>\n",
       "      <td>4</td>\n",
       "      <td>0</td>\n",
       "      <td>0</td>\n",
       "    </tr>\n",
       "    <tr>\n",
       "      <th>161</th>\n",
       "      <td>ShieldRVt-PT-002A</td>\n",
       "      <td>0</td>\n",
       "      <td>8</td>\n",
       "      <td>0</td>\n",
       "      <td>0</td>\n",
       "    </tr>\n",
       "    <tr>\n",
       "      <th>162</th>\n",
       "      <td>ShieldRVt-PT-003A</td>\n",
       "      <td>0</td>\n",
       "      <td>12</td>\n",
       "      <td>0</td>\n",
       "      <td>0</td>\n",
       "    </tr>\n",
       "    <tr>\n",
       "      <th>167</th>\n",
       "      <td>SmartHome-PT-01</td>\n",
       "      <td>0</td>\n",
       "      <td>13</td>\n",
       "      <td>0</td>\n",
       "      <td>0</td>\n",
       "    </tr>\n",
       "    <tr>\n",
       "      <th>168</th>\n",
       "      <td>SmartHome-PT-04</td>\n",
       "      <td>0</td>\n",
       "      <td>6</td>\n",
       "      <td>0</td>\n",
       "      <td>0</td>\n",
       "    </tr>\n",
       "    <tr>\n",
       "      <th>169</th>\n",
       "      <td>SmartHome-PT-06</td>\n",
       "      <td>1</td>\n",
       "      <td>9</td>\n",
       "      <td>1</td>\n",
       "      <td>0</td>\n",
       "    </tr>\n",
       "    <tr>\n",
       "      <th>171</th>\n",
       "      <td>SmartHome-PT-10</td>\n",
       "      <td>2</td>\n",
       "      <td>16</td>\n",
       "      <td>2</td>\n",
       "      <td>4</td>\n",
       "    </tr>\n",
       "    <tr>\n",
       "      <th>172</th>\n",
       "      <td>SmartHome-PT-11</td>\n",
       "      <td>2</td>\n",
       "      <td>34</td>\n",
       "      <td>2</td>\n",
       "      <td>12</td>\n",
       "    </tr>\n",
       "    <tr>\n",
       "      <th>198</th>\n",
       "      <td>UtahNoC-PT-none</td>\n",
       "      <td>1</td>\n",
       "      <td>7</td>\n",
       "      <td>1</td>\n",
       "      <td>0</td>\n",
       "    </tr>\n",
       "  </tbody>\n",
       "</table>\n",
       "</div>"
      ],
      "text/plain": [
       "                      model  Hil_nL Hil_nL_C  Hil_nLH  Hil_nLH_C\n",
       "5         AutoFlight-PT-01b       0       15        0          6\n",
       "59   FlexibleBarrier-PT-04a       0        5        0          0\n",
       "84     MultiwaySync-PT-none       1       24        1          0\n",
       "88             NoC3x3-PT-1A       1       39        1          0\n",
       "119              Raft-PT-02       0        3        0          0\n",
       "124      Referendum-PT-0015       0       14        0          0\n",
       "152      ShieldIIPt-PT-002A       0       20        0          4\n",
       "154      ShieldPPPs-PT-001A       0       13        0          4\n",
       "157      ShieldPPPt-PT-001B       0       34        0          8\n",
       "159       ShieldRVt-PT-001A       0        4        0          0\n",
       "161       ShieldRVt-PT-002A       0        8        0          0\n",
       "162       ShieldRVt-PT-003A       0       12        0          0\n",
       "167         SmartHome-PT-01       0       13        0          0\n",
       "168         SmartHome-PT-04       0        6        0          0\n",
       "169         SmartHome-PT-06       1        9        1          0\n",
       "171         SmartHome-PT-10       2       16        2          4\n",
       "172         SmartHome-PT-11       2       34        2         12\n",
       "198         UtahNoC-PT-none       1        7        1          0"
      ]
     },
     "execution_count": 427,
     "metadata": {},
     "output_type": "execute_result"
    }
   ],
   "source": [
    "kA, kB = 'Hil_nL', 'Hil_nLH'\n",
    "kAC, kBC = kA+'_C', kB+'_C'\n",
    "print(f'{kB} better than {kA}:')\n",
    "pd.options.display.float_format = '{:,.0f}'.format\n",
    "data2 = data[(data[kAC]>=0) | (data[kBC]>=0)].copy()\n",
    "data2[kAC] = data2[kAC].replace(-1, 1000000)\n",
    "data2[kBC] = data2[kBC].replace(-1, 1000000)\n",
    "data2[ data2[kAC] > 2*data2[kBC] + 1 ][['model', kA, kAC, kB, kBC]]"
   ]
  },
  {
   "cell_type": "code",
   "execution_count": 16,
   "metadata": {},
   "outputs": [
    {
     "name": "stdout",
     "output_type": "stream",
     "text": [
      "HNF better than IGE:\n"
     ]
    },
    {
     "ename": "NameError",
     "evalue": "name 'data2' is not defined",
     "output_type": "error",
     "traceback": [
      "\u001b[0;31m---------------------------------------------------------------------------\u001b[0m",
      "\u001b[0;31mNameError\u001b[0m                                 Traceback (most recent call last)",
      "Cell \u001b[0;32mIn[16], line 2\u001b[0m\n\u001b[1;32m      1\u001b[0m \u001b[38;5;28mprint\u001b[39m(\u001b[38;5;124m'\u001b[39m\u001b[38;5;124mHNF better than IGE:\u001b[39m\u001b[38;5;124m'\u001b[39m)\n\u001b[0;32m----> 2\u001b[0m \u001b[43mdata2\u001b[49m[ data2\u001b[38;5;241m.\u001b[39mHil_IGE_C \u001b[38;5;241m>\u001b[39m \u001b[38;5;241m2\u001b[39m\u001b[38;5;241m*\u001b[39mdata2\u001b[38;5;241m.\u001b[39mHil_HNF_C \u001b[38;5;241m+\u001b[39m \u001b[38;5;241m1\u001b[39m ][[\u001b[38;5;124m'\u001b[39m\u001b[38;5;124mmodel\u001b[39m\u001b[38;5;124m'\u001b[39m, \u001b[38;5;124m'\u001b[39m\u001b[38;5;124mHil_HNF\u001b[39m\u001b[38;5;124m'\u001b[39m, \u001b[38;5;124m'\u001b[39m\u001b[38;5;124mHil_HNF_C\u001b[39m\u001b[38;5;124m'\u001b[39m, \u001b[38;5;124m'\u001b[39m\u001b[38;5;124mHil_IGE\u001b[39m\u001b[38;5;124m'\u001b[39m, \u001b[38;5;124m'\u001b[39m\u001b[38;5;124mHil_IGE_C\u001b[39m\u001b[38;5;124m'\u001b[39m]]\n",
      "\u001b[0;31mNameError\u001b[0m: name 'data2' is not defined"
     ]
    }
   ],
   "source": [
    "print('HNF better than IGE:')\n",
    "data2[ data2.Hil_IGE_C > 2*data2.Hil_HNF_C + 1 ][['model', 'Hil_HNF', 'Hil_HNF_C', 'Hil_IGE', 'Hil_IGE_C']]"
   ]
  },
  {
   "cell_type": "code",
   "execution_count": null,
   "metadata": {},
   "outputs": [],
   "source": []
  },
  {
   "cell_type": "code",
   "execution_count": null,
   "metadata": {},
   "outputs": [],
   "source": []
  },
  {
   "cell_type": "code",
   "execution_count": null,
   "metadata": {},
   "outputs": [],
   "source": []
  },
  {
   "cell_type": "code",
   "execution_count": null,
   "metadata": {},
   "outputs": [],
   "source": []
  },
  {
   "cell_type": "code",
   "execution_count": 204,
   "metadata": {},
   "outputs": [
    {
     "data": {
      "image/png": "[encoded data removed]",
      "text/plain": [
       "<Figure size 640x480 with 1 Axes>"
      ]
     },
     "metadata": {},
     "output_type": "display_data"
    }
   ],
   "source": [
    "def make_3dplot(ax):\n",
    "    ax.plot([0,2.5], [0,7.5], [0,0])\n",
    "    ax.plot([0,2.5], [0,0], [0,7.5])\n",
    "\n",
    "    ax.plot_trisurf(np.array([0, 2.5, 2.5]), \n",
    "                    np.array([0, 7.5, 0]),\n",
    "                    np.array([0, 0, 7.5]), alpha=.25)\n",
    "    ax.scatter3D([0], [0], [0], c='black')\n",
    "    ax.scatter3D([1], [3], [0], c='r')\n",
    "    ax.scatter3D([1], [0], [3], c='r')\n",
    "    ax.scatter3D([1], [1], [2], c='g')\n",
    "    ax.scatter3D([1], [2], [1], c='g')\n",
    "\n",
    "    ax.scatter3D([2], [2], [4], c='b')\n",
    "    ax.scatter3D([2], [4], [2], c='b')\n",
    "    ax.scatter3D([2], [1], [5], c='b')\n",
    "    ax.scatter3D([2], [5], [1], c='b')\n",
    "    ax.scatter3D([2], [6], [0], c='b')\n",
    "    ax.scatter3D([2], [0], [6], c='b')\n",
    "    ax.scatter3D([2], [3], [3], c='b')\n",
    "\n",
    "    ax.set_xlabel('$P_0$', fontsize=14)\n",
    "    ax.set_ylabel('$P_1$', fontsize=14)\n",
    "    ax.set_zlabel('$P_2$', fontsize=14)\n",
    "\n",
    "    ax.set_xticks(range(3))\n",
    "    ax.set_yticks(range(7))\n",
    "    ax.set_zticks(range(7))\n",
    "\n",
    "ax = plt.figure().add_subplot(projection='3d')\n",
    "make_3dplot(ax)"
   ]
  },
  {
   "cell_type": "code",
   "execution_count": 206,
   "metadata": {},
   "outputs": [
    {
     "name": "stderr",
     "output_type": "stream",
     "text": [
      "  0%|          | 0/1441 [00:00<?, ?it/s]"
     ]
    },
    {
     "name": "stderr",
     "output_type": "stream",
     "text": [
      "100%|██████████| 1441/1441 [02:06<00:00, 11.37it/s]\n"
     ]
    }
   ],
   "source": [
    "# Rotate the axes and update\n",
    "for angle in tqdm(range(0, 360*4 + 1)):\n",
    "    ax = plt.figure().add_subplot(projection='3d')\n",
    "    # Normalize the angle to the range [-180, 180] for display\n",
    "    angle_norm = (angle + 180) % 360 - 180\n",
    "\n",
    "    # Cycle through a full rotation of elevation, then azimuth, roll, and all\n",
    "    elev = azim = roll = 0\n",
    "    if angle <= 360:\n",
    "        elev = angle_norm\n",
    "    elif angle <= 360*2:\n",
    "        azim = angle_norm\n",
    "    elif angle <= 360*3:\n",
    "        roll = angle_norm\n",
    "    else:\n",
    "        elev = azim = roll = angle_norm\n",
    "\n",
    "    # Update the axis view and title\n",
    "    ax.view_init(elev, azim, roll)\n",
    "    plt.title('Elevation: %d°, Azimuth: %d°, Roll: %d°' % (elev, azim, roll))\n",
    "    make_3dplot(ax)\n",
    "\n",
    "    # plt.draw()\n",
    "    plt.savefig(f\"video/image_{angle:03}.png\")\n",
    "    plt.close()\n",
    "    # plt.pause(.001)\n",
    "\n",
    "    # ffmpeg -framerate 24 -i video/image_%3d.png -r 10 -pix_fmt yuv420p video.mp4"
   ]
  },
  {
   "cell_type": "code",
   "execution_count": 428,
   "metadata": {},
   "outputs": [
    {
     "name": "stdout",
     "output_type": "stream",
     "text": [
      "[3, 6, 11, 12, 13, 14, 16, 17, 18, 19, 20, 21, 22, 23, 24, 1, 0, 8, 10, 4, 5, 7, 2, 9, 15]\n"
     ]
    }
   ],
   "source": [
    "swaps = [(3, 0), (6, 1), (11, 2), (12, 3), (13, 4), (14, 5), (16, 6), (17, 7), (18, 8), (19, 9), \n",
    "         (20, 10), (21, 11), (22, 12), (23, 13), (24, 14), (16, 15), (22, 16), (18, 17), (20, 18), \n",
    "         (23, 19), (24, 20), (24, 21), (24, 22), (23, 23), (24, 24)]\n",
    "l = list(range(25))\n",
    "for a,b in swaps:\n",
    "    l[a], l[b] = l[b], l[a]\n",
    "print(l)"
   ]
  },
  {
   "cell_type": "code",
   "execution_count": null,
   "metadata": {},
   "outputs": [],
   "source": []
  },
  {
   "cell_type": "code",
   "execution_count": null,
   "metadata": {},
   "outputs": [],
   "source": []
  },
  {
   "cell_type": "code",
   "execution_count": null,
   "metadata": {},
   "outputs": [],
   "source": []
  },
  {
   "cell_type": "markdown",
   "metadata": {},
   "source": []
  },
  {
   "cell_type": "markdown",
   "metadata": {},
   "source": [
    "# Problem shuffle"
   ]
  },
  {
   "cell_type": "code",
   "execution_count": 506,
   "metadata": {},
   "outputs": [],
   "source": [
    "with open('mats_basic/55.mat', 'r') as f:\n",
    "    nr, nc = [int(x) for x in f.readline().split()]\n",
    "    A = np.zeros([nr, nc], dtype=int)\n",
    "    for i in range(nr):\n",
    "        data = [int(x) for x in f.readline().split()]\n",
    "        for j in range(nc):\n",
    "            A[i,j] = data[j]\n",
    "# print(nr, nc)\n",
    "# print(A)\n",
    "\n",
    "#randomly shuffle columns of A\n",
    "for k in range(100):\n",
    "    j1 = np.random.randint(nc)\n",
    "    j2 = np.random.randint(nc)\n",
    "    c1 = A[:,j1].copy()\n",
    "    c2 = A[:,j2].copy()\n",
    "    A[:,j1] = c2 ; A[:,j2] = c1\n",
    "# print(A)\n",
    "\n",
    "with open('mats_basic/55shuffled.mat', 'w') as f:\n",
    "    print(nr,nc, file=f)\n",
    "    for i in range(nr):\n",
    "        for j in range(nc):\n",
    "            print(A[i,j], end=' ', file=f)\n",
    "        print('', file=f)\n"
   ]
  },
  {
   "cell_type": "code",
   "execution_count": null,
   "metadata": {},
   "outputs": [],
   "source": []
  }
 ],
 "metadata": {
  "kernelspec": {
   "display_name": "tf11gpu",
   "language": "python",
   "name": "python3"
  },
  "language_info": {
   "codemirror_mode": {
    "name": "ipython",
    "version": 3
   },
   "file_extension": ".py",
   "mimetype": "text/x-python",
   "name": "python",
   "nbconvert_exporter": "python",
   "pygments_lexer": "ipython3",
   "version": "3.9.15"
  },
  "orig_nbformat": 4
 },
 "nbformat": 4,
 "nbformat_minor": 2
}
